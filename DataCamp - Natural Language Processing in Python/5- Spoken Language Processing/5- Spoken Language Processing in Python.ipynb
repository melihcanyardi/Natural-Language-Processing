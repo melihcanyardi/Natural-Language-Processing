{
 "cells": [
  {
   "cell_type": "markdown",
   "metadata": {},
   "source": [
    "# Introduction to Spoken Language Processing with Python"
   ]
  },
  {
   "cell_type": "markdown",
   "metadata": {},
   "source": [
    "## Introduction to audio data in Python"
   ]
  },
  {
   "cell_type": "code",
   "execution_count": 1,
   "metadata": {},
   "outputs": [],
   "source": [
    "import wave"
   ]
  },
  {
   "cell_type": "code",
   "execution_count": 2,
   "metadata": {},
   "outputs": [],
   "source": [
    "# Import audio file as wave object\n",
    "good_morning = wave.open(\"good-morning.wav\", \"r\")"
   ]
  },
  {
   "cell_type": "code",
   "execution_count": 3,
   "metadata": {},
   "outputs": [],
   "source": [
    "# Convert wave object to bytes\n",
    "soundwave_gm = good_morning.readframes(-1)"
   ]
  },
  {
   "cell_type": "code",
   "execution_count": 4,
   "metadata": {},
   "outputs": [
    {
     "name": "stdout",
     "output_type": "stream",
     "text": [
      "b'\\xfd\\xff\\xfb\\xff\\xf8\\xff\\xf8\\xff\\xf7\\xff'\n"
     ]
    }
   ],
   "source": [
    "# View the wav file in byte form\n",
    "print(soundwave_gm[:10])"
   ]
  },
  {
   "cell_type": "markdown",
   "metadata": {},
   "source": [
    "## Converting sound wave bytes to integers"
   ]
  },
  {
   "cell_type": "code",
   "execution_count": 5,
   "metadata": {},
   "outputs": [
    {
     "data": {
      "text/plain": [
       "array([ -3,  -5,  -8,  -8,  -9, -13,  -8, -10,  -9, -11], dtype=int16)"
      ]
     },
     "execution_count": 5,
     "metadata": {},
     "output_type": "execute_result"
    }
   ],
   "source": [
    "import numpy as np\n",
    "\n",
    "# Convert soundwave_gm from bytes to integers\n",
    "signal_gm = np.frombuffer(soundwave_gm, dtype='int16')\n",
    "\n",
    "# Show the first 10 items\n",
    "signal_gm[:10]"
   ]
  },
  {
   "cell_type": "markdown",
   "metadata": {},
   "source": [
    "**frombuffer** turns a series of data into a 1-dimensional array of a specified data type."
   ]
  },
  {
   "cell_type": "code",
   "execution_count": 6,
   "metadata": {},
   "outputs": [
    {
     "data": {
      "text/plain": [
       "48000"
      ]
     },
     "execution_count": 6,
     "metadata": {},
     "output_type": "execute_result"
    }
   ],
   "source": [
    "# Get the frame rate\n",
    "framerate_gm = good_morning.getframerate()\n",
    "\n",
    "# Show the frame rate\n",
    "framerate_gm"
   ]
  },
  {
   "cell_type": "markdown",
   "metadata": {},
   "source": [
    "**Frequency (Hz)** = length of wave object array/duration of audio file (seconds)\n",
    "**Duration of audio file (seconds)** = length of wave object array/frequency (Hz) "
   ]
  },
  {
   "cell_type": "code",
   "execution_count": 7,
   "metadata": {},
   "outputs": [
    {
     "data": {
      "text/plain": [
       "array([ 1.,  2.,  3.,  4.,  5.,  6.,  7.,  8.,  9., 10.])"
      ]
     },
     "execution_count": 7,
     "metadata": {},
     "output_type": "execute_result"
    }
   ],
   "source": [
    "# Return evenly spaced values between start and stop\n",
    "np.linspace(start=1, stop=10, num=10)"
   ]
  },
  {
   "cell_type": "code",
   "execution_count": 8,
   "metadata": {},
   "outputs": [],
   "source": [
    "# Get the timestamps of the good morning sound wave\n",
    "time_gm = np.linspace(start=0,\n",
    "                      stop=len(soundwave_gm)/framerate_gm,\n",
    "                      num=len(soundwave_gm))"
   ]
  },
  {
   "cell_type": "code",
   "execution_count": 9,
   "metadata": {},
   "outputs": [
    {
     "data": {
      "text/plain": [
       "array([0.00000000e+00, 2.08333750e-05, 4.16667500e-05, 6.25001250e-05,\n",
       "       8.33335000e-05, 1.04166875e-04, 1.25000250e-04, 1.45833625e-04,\n",
       "       1.66667000e-04, 1.87500375e-04])"
      ]
     },
     "execution_count": 9,
     "metadata": {},
     "output_type": "execute_result"
    }
   ],
   "source": [
    "# View first 10 time stamps of the good morning sound wave\n",
    "time_gm[:10]"
   ]
  },
  {
   "cell_type": "markdown",
   "metadata": {},
   "source": [
    "We can leverage numpy's **linspace** method to figure out the timestamp where each sound wave value occurs. It takes _start_, _stop_, and _num_ integers as parameters. Calling it will return _num_ evenly spaced values between _start_ and _stop_."
   ]
  },
  {
   "cell_type": "markdown",
   "metadata": {},
   "source": [
    "## Visualizing sound waves"
   ]
  },
  {
   "cell_type": "code",
   "execution_count": 10,
   "metadata": {},
   "outputs": [],
   "source": [
    "good_afternoon = wave.open(\"good-afternoon.wav\", \"r\")\n",
    "soundwave_ga = good_afternoon.readframes(-1)\n",
    "signal_ga = np.frombuffer(soundwave_ga, dtype='int16')\n",
    "framerate_ga = good_afternoon.getframerate()\n",
    "time_ga = np.linspace(start=0,\n",
    "                      stop=len(soundwave_ga)/framerate_ga,\n",
    "                      num=len(soundwave_ga))"
   ]
  },
  {
   "cell_type": "code",
   "execution_count": 11,
   "metadata": {},
   "outputs": [],
   "source": [
    "#import matplotlib.pyplot as plt\n",
    "#%matplotlib inline\n",
    "#\n",
    "## Initialize figure and setup title\n",
    "#plt.title(\"Good Afternoon vs. Good Morning\")\n",
    "#\n",
    "## x and y axis labels\n",
    "#plt.xlabel(\"Time (seconds)\")\n",
    "#plt.ylabel(\"Amplitude\")\n",
    "#\n",
    "## Add good morning and good afternoon values\n",
    "#plt.plot(time_ga, soundwave_ga, label=\"Good Afternoon\")\n",
    "#plt.plot(time_gm, soundwave_gm, label=\"Good Morning\",\n",
    "#         alpha=0.5)\n",
    "#\n",
    "## Create a legend and show our plot\n",
    "#plt.legend()\n",
    "#plt.show()"
   ]
  },
  {
   "cell_type": "markdown",
   "metadata": {},
   "source": [
    "<img src=\"Good Afternoon vs. Good Morning.png\">"
   ]
  },
  {
   "cell_type": "markdown",
   "metadata": {},
   "source": [
    "# Using the Python SpeechRecognition library"
   ]
  },
  {
   "cell_type": "markdown",
   "metadata": {},
   "source": [
    "## SpeechRecognition Python library"
   ]
  },
  {
   "cell_type": "code",
   "execution_count": 12,
   "metadata": {},
   "outputs": [],
   "source": [
    "# Import the SpeechRecognition library\n",
    "import speech_recognition as sr\n",
    "\n",
    "# Create an instance of Recognizer\n",
    "recognizer = sr.Recognizer()\n",
    "\n",
    "# Set the energy threshold\n",
    "recognizer.energy_threshold = 300"
   ]
  },
  {
   "cell_type": "markdown",
   "metadata": {},
   "source": [
    "The **energy_threshold** can be thought of as the loudness of audio which is considered speech.\n",
    "\n",
    "Values below the threshold are considered silence, values above are considered speech.\n",
    "\n",
    "A silent room is typically between 0 and 100. SpeechRecognition's documentation recommends 300 as a starting value which covers most speech files.\n",
    "\n",
    "The **energy_threshold** value will adjust automatically as the recognizer listens to an audio file."
   ]
  },
  {
   "cell_type": "code",
   "execution_count": 13,
   "metadata": {},
   "outputs": [],
   "source": [
    "clean_support_call = sr.AudioFile(\"clean-support-call.wav\")\n",
    "with clean_support_call as source:\n",
    "    clean_support_call_audio = recognizer.record(source)"
   ]
  },
  {
   "cell_type": "markdown",
   "metadata": {},
   "source": [
    "### Using the Recognizer class to recognize speech\n",
    "\n",
    "**Recognizer** class of **SpeechRecognition** has functions built-in to work with many of the best speech APIs:\n",
    "- _recognize_bing()_: accesses **Microsoft**'s cognitive services\n",
    "- _recognize_google()_: uses **Google**'s free web speech API\n",
    "- _recognize_google_cloud()_: accesses **Google**'s Cloud Speech API\n",
    "- _recognize_wit()_: uses the **wit.ai** platform\n",
    "\n",
    "They all accept an audio file and return text, which is hopefully the transcribed speech from the audio file."
   ]
  },
  {
   "cell_type": "code",
   "execution_count": 14,
   "metadata": {},
   "outputs": [
    {
     "data": {
      "text/plain": [
       "\"hello I'd like to get some help setting up my account please\""
      ]
     },
     "execution_count": 14,
     "metadata": {},
     "output_type": "execute_result"
    }
   ],
   "source": [
    "# Import the SpeechRecognition library\n",
    "import speech_recognition as sr\n",
    "\n",
    "# Instantiate an instance of Recognizer class\n",
    "recognizer = sr.Recognizer()\n",
    "\n",
    "# Transcribe speech using Google web API\n",
    "recognizer.recognize_google(audio_data=clean_support_call_audio,\n",
    "                            language=\"en-US\")"
   ]
  },
  {
   "cell_type": "markdown",
   "metadata": {},
   "source": [
    "## Reading audio files with SpeechRecognition"
   ]
  },
  {
   "cell_type": "markdown",
   "metadata": {},
   "source": [
    "### The AudioFile class"
   ]
  },
  {
   "cell_type": "code",
   "execution_count": 15,
   "metadata": {},
   "outputs": [
    {
     "data": {
      "text/plain": [
       "speech_recognition.AudioFile"
      ]
     },
     "execution_count": 15,
     "metadata": {},
     "output_type": "execute_result"
    }
   ],
   "source": [
    "import speech_recognition as sr\n",
    "\n",
    "# Setup recognizer instance\n",
    "recognizer = sr.Recognizer()\n",
    "\n",
    "# Read in audio file\n",
    "clean_support_call = sr.AudioFile(\"clean-support-call.wav\")\n",
    "\n",
    "# Check type of clean_support_call\n",
    "type(clean_support_call)"
   ]
  },
  {
   "cell_type": "markdown",
   "metadata": {},
   "source": [
    "### From AudioFile to AudioData"
   ]
  },
  {
   "cell_type": "code",
   "execution_count": 16,
   "metadata": {},
   "outputs": [
    {
     "data": {
      "text/plain": [
       "speech_recognition.AudioData"
      ]
     },
     "execution_count": 16,
     "metadata": {},
     "output_type": "execute_result"
    }
   ],
   "source": [
    "# Convert from AudioFile to AudioData\n",
    "with clean_support_call as source:\n",
    "    # Record the audio\n",
    "    clean_support_call_audio = recognizer.record(source)\n",
    "# Check the type\n",
    "type(clean_support_call_audio)"
   ]
  },
  {
   "cell_type": "markdown",
   "metadata": {},
   "source": [
    "### Transcribing our AudioData"
   ]
  },
  {
   "cell_type": "code",
   "execution_count": 17,
   "metadata": {},
   "outputs": [
    {
     "data": {
      "text/plain": [
       "\"hello I'd like to get some help setting up my account please\""
      ]
     },
     "execution_count": 17,
     "metadata": {},
     "output_type": "execute_result"
    }
   ],
   "source": [
    "# Transcribe clean support call\n",
    "recognizer.recognize_google(audio_data=clean_support_call_audio)"
   ]
  },
  {
   "cell_type": "markdown",
   "metadata": {},
   "source": [
    "### Duration and offset\n",
    "\n",
    "There are two parameters of the **record** method you should know about: **duration** and **offset**.\n",
    "\n",
    "The **record** method records up to **duration** second of audio from source starting at **offset**. They are both set to _None_ by default."
   ]
  },
  {
   "cell_type": "code",
   "execution_count": 18,
   "metadata": {},
   "outputs": [
    {
     "data": {
      "text/plain": [
       "\"hello I'd like to\""
      ]
     },
     "execution_count": 18,
     "metadata": {},
     "output_type": "execute_result"
    }
   ],
   "source": [
    "# Leave duration and offset as default\n",
    "with clean_support_call as source:\n",
    "    clean_support_call_audio = recognizer.record(source,\n",
    "                                                 duration=None,\n",
    "                                                 offset=None)\n",
    "    \n",
    "# Get first 2-seconds of clean support call\n",
    "with clean_support_call as source:\n",
    "    clean_support_call_audio = recognizer.record(source,\n",
    "                                                 duration=2.0)\n",
    "    \n",
    "recognizer.recognize_google(audio_data=clean_support_call_audio)"
   ]
  },
  {
   "cell_type": "markdown",
   "metadata": {},
   "source": [
    "## Dealing with different kinds of audio"
   ]
  },
  {
   "cell_type": "markdown",
   "metadata": {},
   "source": [
    "### What language?\n",
    "\n",
    "The **SpeechRecognition** library doesn't automatically detect languages. So, you will have to ensure that **language** parameter is set manually and make sure the API you're using has the capability to transcribe the language your audio files are in."
   ]
  },
  {
   "cell_type": "code",
   "execution_count": 19,
   "metadata": {},
   "outputs": [],
   "source": [
    "# Create a recognizer class\n",
    "recognizer = sr.Recognizer()\n",
    "\n",
    "# Read in audio file\n",
    "japanense = sr.AudioFile(\"good-morning-japanense.wav\")\n",
    "\n",
    "# Convert from AudioFile to AudioData\n",
    "with japanense as source:\n",
    "    # Record the audio\n",
    "    japanese_audio = recognizer.record(source)"
   ]
  },
  {
   "cell_type": "code",
   "execution_count": 20,
   "metadata": {},
   "outputs": [
    {
     "name": "stdout",
     "output_type": "stream",
     "text": [
      "ohayo gozaimasu\n"
     ]
    }
   ],
   "source": [
    "# Create a recognizer class\n",
    "recognizer = sr.Recognizer()\n",
    "\n",
    "# Pass the Japanese audio to recognize_google\n",
    "text = recognizer.recognize_google(japanese_audio, language=\"en-US\")\n",
    "\n",
    "# Print the text\n",
    "print(text)"
   ]
  },
  {
   "cell_type": "code",
   "execution_count": 21,
   "metadata": {},
   "outputs": [
    {
     "name": "stdout",
     "output_type": "stream",
     "text": [
      "おはようございます\n"
     ]
    }
   ],
   "source": [
    "# Create a recognizer class\n",
    "recognizer = sr.Recognizer()\n",
    "\n",
    "# Pass the Japanese audio to recognize_google\n",
    "text = recognizer.recognize_google(japanese_audio, language=\"ja\")\n",
    "\n",
    "# Print the text\n",
    "print(text)"
   ]
  },
  {
   "cell_type": "markdown",
   "metadata": {},
   "source": [
    "### Non-speech audio\n",
    "\n",
    "When there is no speech in the audio, the recognizer will return **UnknownValueError**.\n",
    "\n",
    "We can prevent errors buy using the **show_all** parameter, which shows a list of all the potential transcriptions the **recognize_google()** function came up with."
   ]
  },
  {
   "cell_type": "code",
   "execution_count": 22,
   "metadata": {},
   "outputs": [],
   "source": [
    "# Create a recognizer class\n",
    "recognizer = sr.Recognizer()\n",
    "\n",
    "# Read in audio file\n",
    "leopard = sr.AudioFile(\"leopard.wav\")\n",
    "\n",
    "# Convert from AudioFile to AudioData\n",
    "with leopard as source:\n",
    "    # Record the audio\n",
    "    leopard_audio = recognizer.record(source)"
   ]
  },
  {
   "cell_type": "code",
   "execution_count": 23,
   "metadata": {},
   "outputs": [
    {
     "name": "stdout",
     "output_type": "stream",
     "text": [
      "[]\n"
     ]
    }
   ],
   "source": [
    "# Pass the leopard roar audio to recognize_google\n",
    "text = recognizer.recognize_google(leopard_audio, \n",
    "                                   language=\"en-US\", \n",
    "                                   show_all=True)\n",
    "\n",
    "# Print the text\n",
    "print(text)"
   ]
  },
  {
   "cell_type": "code",
   "execution_count": 24,
   "metadata": {},
   "outputs": [],
   "source": [
    "# Create a recognizer class\n",
    "recognizer = sr.Recognizer()\n",
    "\n",
    "# Read in audio file\n",
    "charlie = sr.AudioFile(\"charlie-bit-me-5.wav\")\n",
    "\n",
    "# Convert from AudioFile to AudioData\n",
    "with charlie as source:\n",
    "    # Record the audio\n",
    "    charlie_audio = recognizer.record(source)"
   ]
  },
  {
   "cell_type": "code",
   "execution_count": 25,
   "metadata": {},
   "outputs": [
    {
     "name": "stdout",
     "output_type": "stream",
     "text": [
      "charlie bit me\n"
     ]
    }
   ],
   "source": [
    "# Pass charlie_audio to recognize_google\n",
    "text = recognizer.recognize_google(charlie_audio, \n",
    "                                   language=\"en-US\")\n",
    "\n",
    "# Print the text\n",
    "print(text)"
   ]
  },
  {
   "cell_type": "markdown",
   "metadata": {},
   "source": [
    "It's worth noting the **recognize_google()** function is only going to return words, as in, it didn't return the baby saying 'ahhh!' because it doesn't recognize it as a word. Speech recognition has come a long way but it's far from perfect."
   ]
  },
  {
   "cell_type": "markdown",
   "metadata": {},
   "source": [
    "### Multiple speakers\n",
    "\n",
    "The free Google Web API transcribes speech and returns it as a single block of text no matter how many speakers there are.\n",
    "\n",
    "A returned single text block can still be useful, however, if your problem requires knowing who said what, you may want to consider the free API we're using as a proof of concept. And then use one of the paid versions for complex tasks.\n",
    "\n",
    "The process of splitting more than one speaker from a single audio file is called **speaker diarization**, however, it is beyond the scope of this course.\n",
    "\n",
    "To get around the multiple speakers problem, you could ensure your audio files are recorded separately for each speaker. Then transcribe the individual speakers audio."
   ]
  },
  {
   "cell_type": "code",
   "execution_count": 26,
   "metadata": {},
   "outputs": [],
   "source": [
    "# Create a recognizer class\n",
    "recognizer = sr.Recognizer()\n",
    "\n",
    "# Read in audio file\n",
    "multiple = sr.AudioFile(\"multiple-speakers-16k.wav\")\n",
    "\n",
    "# Convert from AudioFile to AudioData\n",
    "with multiple as source:\n",
    "    # Record the audio\n",
    "    multiple_speakers = recognizer.record(source)"
   ]
  },
  {
   "cell_type": "code",
   "execution_count": 27,
   "metadata": {},
   "outputs": [
    {
     "name": "stdout",
     "output_type": "stream",
     "text": [
      "is that it doesn't recognize different speakers invoices it will just return it all as one block of text\n"
     ]
    }
   ],
   "source": [
    "# Recognize the multiple speaker AudioData\n",
    "text = recognizer.recognize_google(multiple_speakers,\n",
    "                                language=\"en-US\")\n",
    "\n",
    "# Print the text\n",
    "print(text)"
   ]
  },
  {
   "cell_type": "markdown",
   "metadata": {},
   "source": [
    "### Noisy audio\n",
    "\n",
    "If you have trouble hearing the speech, so will the APIs. To try and accommodate for background noise, the **Recognizer** class ha a built-in function, **adjust_for_ambient_noise**, which takes a parameter, **duration**.\n",
    "\n",
    "The **Recognizer** class then listens for **duration** seconds at the start of the audio file and adjusts the **energy_threshold**, or the amount the **Recognizer** class listens, to a level suitable for the background noise.\n",
    "\n",
    "How much space you have at the start of your audio file will dictate what you can set the duration value to. The **SpeechRecognition** documentation recommends somewhere between 0.5 to 1 second as a good starting point."
   ]
  },
  {
   "cell_type": "code",
   "execution_count": 28,
   "metadata": {},
   "outputs": [
    {
     "name": "stdout",
     "output_type": "stream",
     "text": [
      "hello I'd like to get some help setting up my account please\n"
     ]
    }
   ],
   "source": [
    "# Create a recognizer class\n",
    "recognizer = sr.Recognizer()\n",
    "\n",
    "# Read in audio file\n",
    "clean_support_call = sr.AudioFile(\"clean-support-call.wav\")\n",
    "\n",
    "# Record the audio from the clean support call\n",
    "with clean_support_call as source:\n",
    "    clean_support_call_audio = recognizer.record(source)\n",
    "\n",
    "# Transcribe the speech from the clean support call\n",
    "text = recognizer.recognize_google(clean_support_call_audio,\n",
    "                                   language=\"en-US\")\n",
    "\n",
    "print(text)"
   ]
  },
  {
   "cell_type": "code",
   "execution_count": 29,
   "metadata": {},
   "outputs": [
    {
     "name": "stdout",
     "output_type": "stream",
     "text": [
      "{'alternative': [{'transcript': \"hello I'd like to get to help setting up my account\", 'confidence': 0.93967402}, {'transcript': \"hello I'd like to get to help finding out my account\"}, {'transcript': \"hello I'd like to get to help setting up my calendar\"}, {'transcript': \"hello I'd like to get to help sending out my account\"}, {'transcript': \"hello I'd like to get to help setting up my account.\"}], 'final': True}\n"
     ]
    }
   ],
   "source": [
    "# Create a recognizer class\n",
    "recognizer = sr.Recognizer()\n",
    "\n",
    "# Read in audio file\n",
    "noisy_support_call = sr.AudioFile(\"2-noisy-support-call.wav\")\n",
    "\n",
    "# Record the audio from the noisy support call\n",
    "with noisy_support_call as source:\n",
    "    noisy_support_call_audio = recognizer.record(source)\n",
    "\n",
    "# Transcribe the speech from the noisy support call\n",
    "text = recognizer.recognize_google(noisy_support_call_audio,\n",
    "                         language=\"en-US\",\n",
    "                         show_all=True)\n",
    "\n",
    "print(text)"
   ]
  },
  {
   "cell_type": "markdown",
   "metadata": {},
   "source": [
    "Set the **duration** parameter of **adjust_for_ambient_noise()** to 1 (second) so **recognizer** adjusts for background noise."
   ]
  },
  {
   "cell_type": "code",
   "execution_count": 30,
   "metadata": {},
   "outputs": [
    {
     "name": "stdout",
     "output_type": "stream",
     "text": [
      "{'alternative': [{'transcript': \"I'd like to get to help setting up my account\", 'confidence': 0.87440616}, {'transcript': \"I'd like to get to help setting up my calendar\"}, {'transcript': 'I like to get to help setting up my account'}, {'transcript': \"I'd like to get to help setting up my Kelly\"}, {'transcript': \"I'd like to get to help setting up my account.\"}], 'final': True}\n"
     ]
    }
   ],
   "source": [
    "# Create a recognizer class\n",
    "recognizer = sr.Recognizer()\n",
    "\n",
    "# Record the audio from the noisy support call\n",
    "with noisy_support_call as source:\n",
    "    # Adjust the recognizer energy threshold for ambient noise\n",
    "    recognizer.adjust_for_ambient_noise(source, duration=1)\n",
    "    noisy_support_call_audio = recognizer.record(noisy_support_call)\n",
    "\n",
    "# Transcribe the speech from the noisy support call\n",
    "text = recognizer.recognize_google(noisy_support_call_audio,\n",
    "                                   language=\"en-US\",\n",
    "                                   show_all=True)\n",
    "\n",
    "print(text)"
   ]
  },
  {
   "cell_type": "markdown",
   "metadata": {},
   "source": [
    "A **duration** of 1 was too long and it cut off some of the audio. Try setting **duration** to 0.5."
   ]
  },
  {
   "cell_type": "code",
   "execution_count": 31,
   "metadata": {},
   "outputs": [
    {
     "name": "stdout",
     "output_type": "stream",
     "text": [
      "{'alternative': [{'transcript': \"hello I'd like to get to help setting up my account\", 'confidence': 0.93739474}, {'transcript': \"hello I'd like to get to help setting up my calendar\"}, {'transcript': \"hello I'd like to get to help setting up my Kelly\"}, {'transcript': \"hello I'd like to get to help setting up my account.\"}, {'transcript': \"hello I'd like to get to help setting up my account please\"}], 'final': True}\n"
     ]
    }
   ],
   "source": [
    "recognizer = sr.Recognizer()\n",
    "\n",
    "# Record the audio from the noisy support call\n",
    "with noisy_support_call as source:\n",
    "    # Adjust the recognizer energy threshold for ambient noise\n",
    "    recognizer.adjust_for_ambient_noise(source, duration=0.5)\n",
    "    noisy_support_call_audio = recognizer.record(noisy_support_call)\n",
    "\n",
    "# Transcribe the speech from the noisy support call\n",
    "text = recognizer.recognize_google(noisy_support_call_audio,\n",
    "                                   language=\"en-US\",\n",
    "                                   show_all=True)\n",
    "\n",
    "print(text)"
   ]
  },
  {
   "cell_type": "markdown",
   "metadata": {},
   "source": [
    "# Manipulating Audio Files with PyDub"
   ]
  },
  {
   "cell_type": "markdown",
   "metadata": {},
   "source": [
    "### PyDub's main class, AudioSegment"
   ]
  },
  {
   "cell_type": "code",
   "execution_count": 32,
   "metadata": {},
   "outputs": [
    {
     "name": "stderr",
     "output_type": "stream",
     "text": [
      "C:\\Users\\Melih\\anaconda3\\lib\\site-packages\\pydub\\utils.py:170: RuntimeWarning: Couldn't find ffmpeg or avconv - defaulting to ffmpeg, but may not work\n",
      "  warn(\"Couldn't find ffmpeg or avconv - defaulting to ffmpeg, but may not work\", RuntimeWarning)\n"
     ]
    },
    {
     "data": {
      "text/plain": [
       "pydub.audio_segment.AudioSegment"
      ]
     },
     "execution_count": 32,
     "metadata": {},
     "output_type": "execute_result"
    }
   ],
   "source": [
    "# Import PyDub main class\n",
    "from pydub import AudioSegment\n",
    "\n",
    "# Import an audio file\n",
    "wav_file = AudioSegment.from_file(file=\"wav_file.wav\", format=\"\")\n",
    "\n",
    "# Format parameter only for readability\n",
    "wav_file = AudioSegment.from_file(file=\"wav_file.wav\")\n",
    "\n",
    "type(wav_file)"
   ]
  },
  {
   "cell_type": "markdown",
   "metadata": {},
   "source": [
    "### Playing an audio file"
   ]
  },
  {
   "cell_type": "code",
   "execution_count": 33,
   "metadata": {},
   "outputs": [],
   "source": [
    "# Import play function\n",
    "from pydub.playback import play\n",
    "\n",
    "# Import audio file\n",
    "wav_file = AudioSegment.from_file(file=\"wav_file.wav\")\n",
    "\n",
    "# Play audio file\n",
    "play(wav_file)"
   ]
  },
  {
   "cell_type": "markdown",
   "metadata": {},
   "source": [
    "### Audio parameters"
   ]
  },
  {
   "cell_type": "code",
   "execution_count": 34,
   "metadata": {},
   "outputs": [
    {
     "data": {
      "text/plain": [
       "(2, 2)"
      ]
     },
     "execution_count": 34,
     "metadata": {},
     "output_type": "execute_result"
    }
   ],
   "source": [
    "# Import audio files\n",
    "wav_file = AudioSegment.from_file(file=\"wav_file.wav\")\n",
    "two_speakers = AudioSegment.from_file(file=\"good-morning.wav\")\n",
    "\n",
    "# Check number of channels\n",
    "wav_file.channels, two_speakers.channels"
   ]
  },
  {
   "cell_type": "code",
   "execution_count": 35,
   "metadata": {},
   "outputs": [
    {
     "data": {
      "text/plain": [
       "48000"
      ]
     },
     "execution_count": 35,
     "metadata": {},
     "output_type": "execute_result"
    }
   ],
   "source": [
    "# Find the sample rate\n",
    "wav_file.frame_rate"
   ]
  },
  {
   "cell_type": "code",
   "execution_count": 36,
   "metadata": {},
   "outputs": [
    {
     "data": {
      "text/plain": [
       "2"
      ]
     },
     "execution_count": 36,
     "metadata": {},
     "output_type": "execute_result"
    }
   ],
   "source": [
    "# Find the number of bytes for sample\n",
    "wav_file.sample_width"
   ]
  },
  {
   "cell_type": "code",
   "execution_count": 37,
   "metadata": {},
   "outputs": [
    {
     "data": {
      "text/plain": [
       "8484"
      ]
     },
     "execution_count": 37,
     "metadata": {},
     "output_type": "execute_result"
    }
   ],
   "source": [
    "# Find the max amplitude\n",
    "wav_file.max"
   ]
  },
  {
   "cell_type": "code",
   "execution_count": 38,
   "metadata": {},
   "outputs": [
    {
     "data": {
      "text/plain": [
       "3284"
      ]
     },
     "execution_count": 38,
     "metadata": {},
     "output_type": "execute_result"
    }
   ],
   "source": [
    "# Duration of audio file in milliseconds\n",
    "len(wav_file)"
   ]
  },
  {
   "cell_type": "markdown",
   "metadata": {},
   "source": [
    "When you import a file with **from_file**, PyDub automatically infers a number of parameters about the file. These are stored as attributes in the **AudioSegment** instance.\n",
    "\n",
    "- Calling **channels** on AutioSegment will show you the number of channels, 1 for mono, 2 for stereo audio.\n",
    "- Calling **frame_rate** gives you the sample rate of your AudioSegment in Hertz.\n",
    "- **sample_width** tells you the number of bytes per sample, 1 means 8-bit, 2 means 16-bit.\n",
    "- **max** will tell you the max amplitude of your audio file, which can be considered loudness and is useful for normalizing sound levels.\n",
    "- Calling **len** on any AudioSegment will tell you the duration of the audio file in milliseconds."
   ]
  },
  {
   "cell_type": "markdown",
   "metadata": {},
   "source": [
    "### Changing audio parameters"
   ]
  },
  {
   "cell_type": "markdown",
   "metadata": {},
   "source": [
    "#### Change ATTRIBUTENAME of AudioSegment to x\n",
    "changed_audio_segment = audio_segment.set_ATTRIBUTENAME(x)"
   ]
  },
  {
   "cell_type": "code",
   "execution_count": 39,
   "metadata": {},
   "outputs": [
    {
     "data": {
      "text/plain": [
       "1"
      ]
     },
     "execution_count": 39,
     "metadata": {},
     "output_type": "execute_result"
    }
   ],
   "source": [
    "# Change sample width to 1\n",
    "wav_file_width_1 = wav_file.set_sample_width(1)\n",
    "wav_file_width_1.sample_width"
   ]
  },
  {
   "cell_type": "code",
   "execution_count": 40,
   "metadata": {},
   "outputs": [
    {
     "data": {
      "text/plain": [
       "16000"
      ]
     },
     "execution_count": 40,
     "metadata": {},
     "output_type": "execute_result"
    }
   ],
   "source": [
    "# Change sample rate\n",
    "wav_file_16k = wav_file.set_frame_rate(16000)\n",
    "wav_file_16k.frame_rate"
   ]
  },
  {
   "cell_type": "code",
   "execution_count": 41,
   "metadata": {},
   "outputs": [
    {
     "data": {
      "text/plain": [
       "1"
      ]
     },
     "execution_count": 41,
     "metadata": {},
     "output_type": "execute_result"
    }
   ],
   "source": [
    "# Change number of channels\n",
    "wav_file_1_channel = wav_file.set_channels(1)\n",
    "wav_file_1_channel.channels"
   ]
  },
  {
   "cell_type": "markdown",
   "metadata": {},
   "source": [
    "## Manipulating audio files with PyDub"
   ]
  },
  {
   "cell_type": "markdown",
   "metadata": {},
   "source": [
    "### Turning it down to 11"
   ]
  },
  {
   "cell_type": "code",
   "execution_count": 42,
   "metadata": {},
   "outputs": [],
   "source": [
    "## Import audio file\n",
    "wav_file = AudioSegment.from_file(\"volume_adjusted.wav\")\n",
    "\n",
    "# Minus 60 dB\n",
    "quiet_wav_file = wav_file - 60"
   ]
  },
  {
   "cell_type": "markdown",
   "metadata": {},
   "source": [
    "If you try to transcribe audio this quiet with **recognize_google()**, it would return an error.\n",
    "\n",
    "In practice, you're more likely to want to increase the volume of your **AudioSegment**s."
   ]
  },
  {
   "cell_type": "code",
   "execution_count": 43,
   "metadata": {},
   "outputs": [],
   "source": [
    "# Increase the volume by 10 dB\n",
    "louder_wav_file = wav_file + 10"
   ]
  },
  {
   "cell_type": "markdown",
   "metadata": {},
   "source": [
    "If your audio files are too quiet or too loud, they may produce transcription errors. As you could imagine, speech transcriptions works best on clear, audible speech."
   ]
  },
  {
   "cell_type": "markdown",
   "metadata": {},
   "source": [
    "### This all sounds the same"
   ]
  },
  {
   "cell_type": "code",
   "execution_count": 44,
   "metadata": {},
   "outputs": [],
   "source": [
    "# Import AudioSegment and normalize\n",
    "from pydub import AudioSegment\n",
    "from pydub.effects import normalize\n",
    "from pydub.playback import play"
   ]
  },
  {
   "cell_type": "markdown",
   "metadata": {},
   "source": [
    "The **normalize** function finds the highest level of audio throughout an **AudioSegment** and then boosts the rest of the audio up to match."
   ]
  },
  {
   "cell_type": "code",
   "execution_count": 45,
   "metadata": {},
   "outputs": [],
   "source": [
    "## Import uneven sound audio file\n",
    "#loud_quiet = AudioSegment.from_file(\"ex3_datacamp_loud_then_quiet.wav\")\n",
    "#\n",
    "## Normalize the sound levels\n",
    "#normalized_loud_quiet = normalize(loud_quiet)\n",
    "#\n",
    "## Check the sound\n",
    "#play(normalized_loud_quiet)"
   ]
  },
  {
   "cell_type": "markdown",
   "metadata": {},
   "source": [
    "### Remixing your audio files"
   ]
  },
  {
   "cell_type": "code",
   "execution_count": 46,
   "metadata": {},
   "outputs": [],
   "source": [
    "# Import audio with static at start\n",
    "static_at_start = AudioSegment.from_file(\"volume_adjusted.wav\")\n",
    "\n",
    "# Remove the static via slicing\n",
    "no_static_at_start = static_at_start[5000:]\n",
    "\n",
    "# Check the new sound\n",
    "play(no_static_at_start)"
   ]
  },
  {
   "cell_type": "code",
   "execution_count": 47,
   "metadata": {},
   "outputs": [],
   "source": [
    "# Import two audio files\n",
    "wav_file_1 = AudioSegment.from_file(\"wav_file.wav\")\n",
    "wav_file_2 = AudioSegment.from_file(\"volume_adjusted.wav\")\n",
    "\n",
    "# Combine the two audio files\n",
    "wav_file_3 = wav_file_1 + wav_file_2\n",
    "\n",
    "# Check the sound\n",
    "play(wav_file_3)"
   ]
  },
  {
   "cell_type": "markdown",
   "metadata": {},
   "source": [
    "### Exercise: Chopping and changing audio files"
   ]
  },
  {
   "cell_type": "code",
   "execution_count": 48,
   "metadata": {},
   "outputs": [],
   "source": [
    "from pydub import AudioSegment\n",
    "\n",
    "# Import part 1 and part 2 audio files\n",
    "part_1 = AudioSegment.from_file(\"ex3_slicing_part_1.wav\")\n",
    "part_2 = AudioSegment.from_file(\"ex3_slicing_part_2.wav\")\n",
    "\n",
    "# Remove the first four seconds of part 1\n",
    "part_1_removed = part_1[4000:]\n",
    "\n",
    "# Add the remainder of part 1 and part 2 together\n",
    "part_3 = part_1 + part_2"
   ]
  },
  {
   "cell_type": "markdown",
   "metadata": {},
   "source": [
    "Operators on AudioSegments work in order of operation. So, \"*wav_file_1* + *wav_file_2* + *10*\" will combine *wav_file_1* and *wav_file_2* and increase the combination by *10 decibels*."
   ]
  },
  {
   "cell_type": "code",
   "execution_count": 49,
   "metadata": {},
   "outputs": [],
   "source": [
    "# Combine two files and make the combination louder\n",
    "louder_wav_file_3 = wav_file_1 + wav_file_2 + 10"
   ]
  },
  {
   "cell_type": "markdown",
   "metadata": {},
   "source": [
    "If your audio files have different characteristics, combining them like this automatically scales parameters such as frame rate to be equal to the higher quality audio file."
   ]
  },
  {
   "cell_type": "markdown",
   "metadata": {},
   "source": [
    "### Splitting your audio"
   ]
  },
  {
   "cell_type": "code",
   "execution_count": 50,
   "metadata": {},
   "outputs": [
    {
     "data": {
      "text/plain": [
       "2"
      ]
     },
     "execution_count": 50,
     "metadata": {},
     "output_type": "execute_result"
    }
   ],
   "source": [
    "# Import phone call audio\n",
    "phone_call = AudioSegment.from_file(\"ex3_stereo_call.wav\")\n",
    "\n",
    "# Find number of channels\n",
    "phone_call.channels"
   ]
  },
  {
   "cell_type": "code",
   "execution_count": 51,
   "metadata": {},
   "outputs": [
    {
     "data": {
      "text/plain": [
       "[<pydub.audio_segment.AudioSegment at 0x216b8928190>,\n",
       " <pydub.audio_segment.AudioSegment at 0x216b89281c0>]"
      ]
     },
     "execution_count": 51,
     "metadata": {},
     "output_type": "execute_result"
    }
   ],
   "source": [
    "# Split stereo to mono\n",
    "phone_call_channels = phone_call.split_to_mono()\n",
    "phone_call_channels"
   ]
  },
  {
   "cell_type": "code",
   "execution_count": 52,
   "metadata": {},
   "outputs": [
    {
     "data": {
      "text/plain": [
       "1"
      ]
     },
     "execution_count": 52,
     "metadata": {},
     "output_type": "execute_result"
    }
   ],
   "source": [
    "# Find number of channels of first list item\n",
    "phone_call_channels[0].channels"
   ]
  },
  {
   "cell_type": "markdown",
   "metadata": {},
   "source": [
    "### Exercise: Exporting and reformatting audio files"
   ]
  },
  {
   "cell_type": "code",
   "execution_count": 53,
   "metadata": {},
   "outputs": [
    {
     "name": "stdout",
     "output_type": "stream",
     "text": [
      "Stereo number channels: 2\n",
      "Split number channels: 1, 1\n"
     ]
    }
   ],
   "source": [
    "# Import AudioSegment\n",
    "from pydub import AudioSegment\n",
    "\n",
    "# Import stereo audio file and check channels\n",
    "stereo_phone_call = AudioSegment.from_file(\"ex3_stereo_call.wav\")\n",
    "print(f\"Stereo number channels: {stereo_phone_call.channels}\")\n",
    "\n",
    "# Split stereo phone call and check channels\n",
    "channels = stereo_phone_call.split_to_mono()\n",
    "print(f\"Split number channels: {channels[0].channels}, {channels[1].channels}\")\n",
    "\n",
    "# Save new channels separately\n",
    "phone_call_channel_1 = channels[0]\n",
    "phone_call_channel_2 = channels[1]"
   ]
  },
  {
   "cell_type": "markdown",
   "metadata": {},
   "source": [
    "## Converting and saving audio files with PyDub"
   ]
  },
  {
   "cell_type": "markdown",
   "metadata": {},
   "source": [
    "### Exporting audio files"
   ]
  },
  {
   "cell_type": "code",
   "execution_count": 54,
   "metadata": {},
   "outputs": [
    {
     "data": {
      "text/plain": [
       "<_io.BufferedRandom name='louder_wav_file.wav'>"
      ]
     },
     "execution_count": 54,
     "metadata": {},
     "output_type": "execute_result"
    }
   ],
   "source": [
    "from pydub import AudioSegment\n",
    "\n",
    "# Import audio file\n",
    "wav_file = AudioSegment.from_file(\"wav_file.wav\")\n",
    "\n",
    "# Increase by 10 decibels\n",
    "louder_wav_file = wav_file + 10\n",
    "\n",
    "# Export louder audio file\n",
    "louder_wav_file.export(out_f=\"louder_wav_file.wav\", format=\"wav\")"
   ]
  },
  {
   "cell_type": "markdown",
   "metadata": {},
   "source": [
    "### Reformatting and exporting multiple audio files"
   ]
  },
  {
   "cell_type": "code",
   "execution_count": 55,
   "metadata": {},
   "outputs": [],
   "source": [
    "def make_wav(wrong_folder_path, right_folder_path):\n",
    "    # Loop through wrongly formatted files\n",
    "    for file in os.scandir(wrong_folder_path):\n",
    "        # Only work with files with audio extensions we're fixing\n",
    "        if file.path.endswith(\".mp3\") or file.path.endswith(\".flac\"):\n",
    "            # Create the new .wav filename\n",
    "            out_file = right_folder_path + os.path.splitext(os.path.basename(file.path))[0] + \".wav\"\n",
    "        # Read in the audio file and export it in wav format\n",
    "        AudioSegment.from_file(file.path).export(out_file,\n",
    "                                                 format=\"wav\")\n",
    "        print(f\"Creating {out_file}\")"
   ]
  },
  {
   "cell_type": "code",
   "execution_count": 56,
   "metadata": {},
   "outputs": [],
   "source": [
    "## Call our new function\n",
    "#make_wav(\"data/wrong_formats\", \"data/right_format\")"
   ]
  },
  {
   "cell_type": "markdown",
   "metadata": {},
   "source": [
    "### Manipulating and exporting"
   ]
  },
  {
   "cell_type": "code",
   "execution_count": 57,
   "metadata": {},
   "outputs": [],
   "source": [
    "def make_no_static_louder(static_quiet, louder_no_static):\n",
    "    # Loop through files with static and quiet (already in wav format)\n",
    "    for file in os.scandir(static_quiet_folder_path):\n",
    "        # Create new file path\n",
    "        out_file = louder_no_static + os.path.splitext(os.path.basename(file.path))[0] + \".wav\"\n",
    "        # Read the audio file\n",
    "        audio_file = AudioSegment.from_file(file.path)\n",
    "        # Remove first three seconds and add 10 decibels and export\n",
    "        audio_file = (audio_file[3100:] + 10).export(out_file, format=\"wav\")\n",
    "        \n",
    "        print(f\"Creating {out_file}\")"
   ]
  },
  {
   "cell_type": "code",
   "execution_count": 58,
   "metadata": {},
   "outputs": [],
   "source": [
    "## Remove static and make louder\n",
    "#make_no_static_louder(\"data/static_quiet/\", \"data_louder_no_static/\")"
   ]
  },
  {
   "cell_type": "markdown",
   "metadata": {},
   "source": [
    "# Processing text transcribed from spoken language"
   ]
  },
  {
   "cell_type": "markdown",
   "metadata": {},
   "source": [
    "## Creating transcription helper functions"
   ]
  },
  {
   "cell_type": "markdown",
   "metadata": {},
   "source": [
    "### Preparing for the proof of concept"
   ]
  },
  {
   "cell_type": "markdown",
   "metadata": {},
   "source": [
    "### File format conversion function"
   ]
  },
  {
   "cell_type": "code",
   "execution_count": 59,
   "metadata": {},
   "outputs": [],
   "source": [
    "# Create a function to convert audio file to wav\n",
    "def convert_to_wav(filename):\n",
    "    \"Takes an audio file of non .wav format and converts to .wav\"\n",
    "    # Import audio file\n",
    "    audio = AudioSegment.from_file(filename)\n",
    "    # Create new filename\n",
    "    new_filename = filename.split(\".\")[0] + \".wav\"\n",
    "    # Export file as .wav\n",
    "    audio.export(new_filename, format=\"wav\")\n",
    "    print(f\"Converting {filename} to {new_filename}...\")"
   ]
  },
  {
   "cell_type": "markdown",
   "metadata": {},
   "source": [
    "### Attribute showing function"
   ]
  },
  {
   "cell_type": "code",
   "execution_count": 60,
   "metadata": {},
   "outputs": [],
   "source": [
    "def show_pydub_stats(filename):\n",
    "    \"Returns different audio attributes related to an audio file.\"\n",
    "    # Create AudioSegment instance\n",
    "    audio_segment = AudioSegment.from_file(filename)\n",
    "    # Print attributes\n",
    "    print(f\"Channels: {audio_segment.channels}\")\n",
    "    print(f\"Sample width: {audio_segment.sample_width}\")\n",
    "    print(f\"Frame rate (sample rate): {audio_segment.frame_rate}\")\n",
    "    print(f\"Frame width: {audio_segment.frame_width}\")\n",
    "    print(f\"Length (ms): {len(audio_segment)}\")\n",
    "    print(f\"Frame count: {audio_segment.frame_count()}\")"
   ]
  },
  {
   "cell_type": "code",
   "execution_count": 61,
   "metadata": {},
   "outputs": [
    {
     "name": "stdout",
     "output_type": "stream",
     "text": [
      "Channels: 2\n",
      "Sample width: 2\n",
      "Frame rate (sample rate): 32000\n",
      "Frame width: 4\n",
      "Length (ms): 54888\n",
      "Frame count: 1756416.0\n"
     ]
    }
   ],
   "source": [
    "show_pydub_stats(\"ex4_call_1_stereo_formatted.wav\")"
   ]
  },
  {
   "cell_type": "markdown",
   "metadata": {},
   "source": [
    "### Transcribe function"
   ]
  },
  {
   "cell_type": "code",
   "execution_count": 62,
   "metadata": {},
   "outputs": [],
   "source": [
    "# Create a function to transcribe audio\n",
    "def transcribe_audio(filename):\n",
    "    \"Takes a .wav format audio file and transcribes it to text.\"\n",
    "    # setup a recognizer instance\n",
    "    recognizer = sr.Recognizer()\n",
    "    \n",
    "    # Import the audio file and convert to audio data\n",
    "    audio_file = sr.AudioFile(filename)\n",
    "    with audio_file as source:\n",
    "        audio_data = recognizer.record(audio_file)\n",
    "        \n",
    "    # Return the transcribed text\n",
    "    return recognizer.recognize_google(audio_data)"
   ]
  },
  {
   "cell_type": "code",
   "execution_count": 63,
   "metadata": {
    "scrolled": true
   },
   "outputs": [
    {
     "data": {
      "text/plain": [
       "'hello welcome to Acme Studio support lawn mower name is Daniel how can I best help you this is John'"
      ]
     },
     "execution_count": 63,
     "metadata": {},
     "output_type": "execute_result"
    }
   ],
   "source": [
    "transcribe_audio(\"ex4_call_1_stereo_formatted.wav\")"
   ]
  },
  {
   "cell_type": "markdown",
   "metadata": {},
   "source": [
    "## Sentiment analysis on spoken language text"
   ]
  },
  {
   "cell_type": "code",
   "execution_count": 64,
   "metadata": {},
   "outputs": [
    {
     "name": "stderr",
     "output_type": "stream",
     "text": [
      "[nltk_data] Downloading package punkt to\n",
      "[nltk_data]     C:\\Users\\Melih\\AppData\\Roaming\\nltk_data...\n",
      "[nltk_data]   Package punkt is already up-to-date!\n",
      "[nltk_data] Downloading package vader_lexicon to\n",
      "[nltk_data]     C:\\Users\\Melih\\AppData\\Roaming\\nltk_data...\n",
      "[nltk_data]   Package vader_lexicon is already up-to-date!\n"
     ]
    },
    {
     "data": {
      "text/plain": [
       "True"
      ]
     },
     "execution_count": 64,
     "metadata": {},
     "output_type": "execute_result"
    }
   ],
   "source": [
    "# Download required NLTK packages\n",
    "import nltk\n",
    "nltk.download(\"punkt\")\n",
    "nltk.download(\"vader_lexicon\")"
   ]
  },
  {
   "cell_type": "markdown",
   "metadata": {},
   "source": [
    "We'll use NLTK's **VADER** (**Valence Aware Dictionary and sEntiment analyzeR**) as it has a pre-trained sentiment analysis model in it.\n",
    "\n",
    "**VADER** works by analyzing each word in a piece of text and giving it a sentiment score. It was pre-trained on social media text passages but will lend itself well for our proof of concept."
   ]
  },
  {
   "cell_type": "markdown",
   "metadata": {},
   "source": [
    "### Sentiment analysis with VADER  "
   ]
  },
  {
   "cell_type": "code",
   "execution_count": 65,
   "metadata": {},
   "outputs": [
    {
     "name": "stdout",
     "output_type": "stream",
     "text": [
      "{'neg': 0.437, 'neu': 0.563, 'pos': 0.0, 'compound': -0.4767}\n"
     ]
    }
   ],
   "source": [
    "# Import sentiment analysis class\n",
    "from nltk.sentiment.vader import SentimentIntensityAnalyzer\n",
    "\n",
    "# Create sentiment analysis instance\n",
    "sid = SentimentIntensityAnalyzer()\n",
    "\n",
    "# Test sentiment analysis on negative text\n",
    "print(sid.polarity_scores(\"This customer service is terrible.\"))"
   ]
  },
  {
   "cell_type": "markdown",
   "metadata": {},
   "source": [
    "**compound** value can be thought of as the overall score, with _-1_ being most _negative_ and _1_ being most _positive_."
   ]
  },
  {
   "cell_type": "code",
   "execution_count": 66,
   "metadata": {},
   "outputs": [
    {
     "data": {
      "text/plain": [
       "<_io.BufferedRandom name='call_2_channel_2.wav'>"
      ]
     },
     "execution_count": 66,
     "metadata": {},
     "output_type": "execute_result"
    }
   ],
   "source": [
    "# Import phone call audio\n",
    "call_2 = AudioSegment.from_file(\"ex4_call_2_stereo_native.wav\")\n",
    "# Split stereo to mono\n",
    "call_channels = phone_call.split_to_mono()\n",
    "call_channels[0].export(out_f=\"call_2_channel_1.wav\", format=\"wav\")\n",
    "call_channels[1].export(out_f=\"call_2_channel_2.wav\", format=\"wav\")"
   ]
  },
  {
   "cell_type": "code",
   "execution_count": 67,
   "metadata": {},
   "outputs": [
    {
     "name": "stdout",
     "output_type": "stream",
     "text": [
      "hello this is Daniel from Acme Studios how can I best help you yeah sure thing what's your name and what's wrong with the device okay nice to meet you Josh what's the CR number of your device so I can track it down\n"
     ]
    }
   ],
   "source": [
    "# Transcribe representative channel of call_3\n",
    "call_2_channel_1_text = transcribe_audio(\"call_2_channel_1.wav\")\n",
    "print(call_2_channel_1_text)"
   ]
  },
  {
   "cell_type": "code",
   "execution_count": 68,
   "metadata": {},
   "outputs": [
    {
     "data": {
      "text/plain": [
       "{'neg': 0.057, 'neu': 0.624, 'pos': 0.319, 'compound': 0.9062}"
      ]
     },
     "execution_count": 68,
     "metadata": {},
     "output_type": "execute_result"
    }
   ],
   "source": [
    "# Sentiment analysis on customer channel of call_3\n",
    "sid.polarity_scores(call_2_channel_1_text)"
   ]
  },
  {
   "cell_type": "code",
   "execution_count": 69,
   "metadata": {},
   "outputs": [
    {
     "name": "stdout",
     "output_type": "stream",
     "text": [
      "I was just wondering if I could get some support my name is Josh and my device seems to not want to learn some of my my number is 176-4588\n"
     ]
    }
   ],
   "source": [
    "# Transcribe customer channel of call_3\n",
    "call_2_channel_2_text = transcribe_audio(\"call_2_channel_2.wav\")\n",
    "print(call_2_channel_2_text)"
   ]
  },
  {
   "cell_type": "code",
   "execution_count": 70,
   "metadata": {},
   "outputs": [
    {
     "data": {
      "text/plain": [
       "{'neg': 0.04, 'neu': 0.827, 'pos': 0.132, 'compound': 0.4172}"
      ]
     },
     "execution_count": 70,
     "metadata": {},
     "output_type": "execute_result"
    }
   ],
   "source": [
    "# Sentiment analysis on customer channel of call_3\n",
    "sid.polarity_scores(call_2_channel_2_text)"
   ]
  },
  {
   "cell_type": "markdown",
   "metadata": {},
   "source": [
    "### Sentence by sentence"
   ]
  },
  {
   "cell_type": "code",
   "execution_count": 71,
   "metadata": {},
   "outputs": [
    {
     "name": "stdout",
     "output_type": "stream",
     "text": [
      "Okay.\n",
      "{'neg': 0.0, 'neu': 0.0, 'pos': 1.0, 'compound': 0.2263}\n",
      "Yeah.\n",
      "{'neg': 0.0, 'neu': 0.0, 'pos': 1.0, 'compound': 0.296}\n",
      "Hi, Diane.\n",
      "{'neg': 0.0, 'neu': 1.0, 'pos': 0.0, 'compound': 0.0}\n",
      "This is paid on this call and obviously the status of my orders at three weeks ago, and that service is terrible.\n",
      "{'neg': 0.129, 'neu': 0.871, 'pos': 0.0, 'compound': -0.4767}\n",
      "Is this any better?\n",
      "{'neg': 0.0, 'neu': 0.508, 'pos': 0.492, 'compound': 0.4404}\n",
      "Yes...\n",
      "{'neg': 0.0, 'neu': 1.0, 'pos': 0.0, 'compound': 0.0}\n"
     ]
    }
   ],
   "source": [
    "call_3_paid_api_text = \"Okay. Yeah. Hi, Diane. This is paid on this call and obviously the status of my orders at three weeks ago, and that service is terrible. Is this any better? Yes...\"\n",
    "\n",
    "# Import sent tokenizer\n",
    "from nltk.tokenize import sent_tokenize\n",
    "\n",
    "# Find sentiment on each sentence\n",
    "for sentence in sent_tokenize(call_3_paid_api_text):\n",
    "    print(sentence)\n",
    "    print(sid.polarity_scores(sentence))"
   ]
  },
  {
   "cell_type": "markdown",
   "metadata": {},
   "source": [
    "## Named entity recognition on transcribed text"
   ]
  },
  {
   "cell_type": "markdown",
   "metadata": {},
   "source": [
    "spaCy works by turning blocks of text into **docs**. **Docs** are made up of **tokens** and **spans**. You can think of **tokens** as individual words and groups of tokens or sentences as **spans**."
   ]
  },
  {
   "cell_type": "code",
   "execution_count": 72,
   "metadata": {},
   "outputs": [],
   "source": [
    "import spacy\n",
    "\n",
    "# Load spaCy language model\n",
    "nlp = spacy.load(\"en_core_web_sm\")"
   ]
  },
  {
   "cell_type": "code",
   "execution_count": 73,
   "metadata": {},
   "outputs": [],
   "source": [
    "# Create a spaCy doc\n",
    "doc = nlp(\"I'd like to talk about a smartphone I ordered on July 31st from your Sydney store, my order number is 40939440. I spoke to Georgia about it last week.\")"
   ]
  },
  {
   "cell_type": "markdown",
   "metadata": {},
   "source": [
    "You can see what tokens a doc contains and the index where they start using **.text** and **.idx** on objects in your doc.\n",
    "\n",
    "The number returned by **.idx** indicates the index of the first letter in the token."
   ]
  },
  {
   "cell_type": "code",
   "execution_count": 74,
   "metadata": {},
   "outputs": [
    {
     "name": "stdout",
     "output_type": "stream",
     "text": [
      "I 0\n",
      "'d 1\n",
      "like 4\n",
      "to 9\n",
      "talk 12\n",
      "about 17\n",
      "a 23\n",
      "smartphone 25\n",
      "I 36\n",
      "ordered 38\n",
      "on 46\n",
      "July 49\n",
      "31st 54\n",
      "from 59\n",
      "your 64\n",
      "Sydney 69\n",
      "store 76\n",
      ", 81\n",
      "my 83\n",
      "order 86\n",
      "number 92\n",
      "is 99\n",
      "40939440 102\n",
      ". 110\n",
      "I 112\n",
      "spoke 114\n",
      "to 120\n",
      "Georgia 123\n",
      "about 131\n",
      "it 137\n",
      "last 140\n",
      "week 145\n",
      ". 149\n"
     ]
    }
   ],
   "source": [
    "# Show different tokens and positions\n",
    "for token in doc:\n",
    "    print(token.text, token.idx)"
   ]
  },
  {
   "cell_type": "markdown",
   "metadata": {},
   "source": [
    "You can see where the sentences are with **.sents**."
   ]
  },
  {
   "cell_type": "code",
   "execution_count": 75,
   "metadata": {},
   "outputs": [
    {
     "name": "stdout",
     "output_type": "stream",
     "text": [
      "I'd like to talk about a smartphone I ordered on July 31st from your Sydney store, my order number is 40939440.\n",
      "I spoke to Georgia about it last week.\n"
     ]
    }
   ],
   "source": [
    "# Show sentences in docs\n",
    "for sentence in doc.sents:\n",
    "    print(sentence)"
   ]
  },
  {
   "cell_type": "markdown",
   "metadata": {},
   "source": [
    "### spaCy named entities\n",
    "\n",
    "A **named entity** is an object which is given a name, such as a _person_, _product_, _location_ or _date_.\n",
    "\n",
    "Some of spaCy's built-in named entities:\n",
    "- **PERSON** People, including fictional.\n",
    "- **ORG** Companies, agencies, institutions, etc.\n",
    "- **GPE** Countries, cities, states.\n",
    "- **PRODUCT** Objects, vehicles, foods, etc. (Not services.)\n",
    "- **DATE** Absolute or relative dates or periods.\n",
    "- **TIME** Times smaller than a day.\n",
    "- **MONEY** Monetary values, including unit.\n",
    "- **CARDINAL** Numerals that do not fall under another type.\n",
    "\n",
    "You can access the named entities in a doc using **doc.ents**."
   ]
  },
  {
   "cell_type": "code",
   "execution_count": 76,
   "metadata": {},
   "outputs": [
    {
     "name": "stdout",
     "output_type": "stream",
     "text": [
      "July 31st DATE\n",
      "Sydney GPE\n",
      "40939440 DATE\n",
      "Georgia GPE\n",
      "last week DATE\n"
     ]
    }
   ],
   "source": [
    "# Find named entities in doc\n",
    "for entity in doc.ents:\n",
    "    print(entity.text, entity.label_)"
   ]
  },
  {
   "cell_type": "markdown",
   "metadata": {},
   "source": [
    "### Custom named entities\n",
    "\n",
    "To create a custom entity recognizer, you can use spaCy's **pipeline** class **EntityRuler**.\n",
    "\n",
    "A **pipeline** is what spaCy uses to parse text into a **doc**. You can see the current pipeline using by calling **pipeline** on **nlp**."
   ]
  },
  {
   "cell_type": "code",
   "execution_count": 77,
   "metadata": {},
   "outputs": [
    {
     "data": {
      "text/plain": [
       "[('tok2vec', <spacy.pipeline.tok2vec.Tok2Vec at 0x216c816ddb0>),\n",
       " ('tagger', <spacy.pipeline.tagger.Tagger at 0x216c819ef90>),\n",
       " ('parser', <spacy.pipeline.dep_parser.DependencyParser at 0x216c813a940>),\n",
       " ('ner', <spacy.pipeline.ner.EntityRecognizer at 0x216c813ab80>),\n",
       " ('attribute_ruler',\n",
       "  <spacy.pipeline.attributeruler.AttributeRuler at 0x216c8225580>),\n",
       " ('lemmatizer', <spacy.lang.en.lemmatizer.EnglishLemmatizer at 0x216c820e5c0>)]"
      ]
     },
     "execution_count": 77,
     "metadata": {},
     "output_type": "execute_result"
    }
   ],
   "source": [
    "# Import EntityRuler class\n",
    "from spacy.pipeline import EntityRuler\n",
    "\n",
    "# Check spaCy pipeline\n",
    "nlp.pipeline"
   ]
  },
  {
   "cell_type": "markdown",
   "metadata": {},
   "source": [
    "### Changing the pipeline\n",
    "\n",
    "The **EntityRuler** class allows us to create another step in the **pipeline**."
   ]
  },
  {
   "cell_type": "code",
   "execution_count": 78,
   "metadata": {},
   "outputs": [
    {
     "data": {
      "text/plain": [
       "[('tok2vec', <spacy.pipeline.tok2vec.Tok2Vec at 0x216c816ddb0>),\n",
       " ('tagger', <spacy.pipeline.tagger.Tagger at 0x216c819ef90>),\n",
       " ('parser', <spacy.pipeline.dep_parser.DependencyParser at 0x216c813a940>),\n",
       " ('ner', <spacy.pipeline.ner.EntityRecognizer at 0x216c813ab80>),\n",
       " ('attribute_ruler',\n",
       "  <spacy.pipeline.attributeruler.AttributeRuler at 0x216c8225580>),\n",
       " ('lemmatizer', <spacy.lang.en.lemmatizer.EnglishLemmatizer at 0x216c820e5c0>)]"
      ]
     },
     "execution_count": 78,
     "metadata": {},
     "output_type": "execute_result"
    }
   ],
   "source": [
    "# Create EntityRuler instance\n",
    "ruler = EntityRuler(nlp)\n",
    "\n",
    "# Add token pattern to ruler\n",
    "ruler.add_patterns([{\"label\": \"PRODUCT\", \"pattern\": \"smartphone\"}])\n",
    "\n",
    "# Add new rule to pipeline before ner\n",
    "#nlp.add_pipe(ruler, before=\"ner\")\n",
    "\n",
    "# Check updated pipeline\n",
    "nlp.pipeline"
   ]
  },
  {
   "cell_type": "code",
   "execution_count": 79,
   "metadata": {},
   "outputs": [
    {
     "name": "stdout",
     "output_type": "stream",
     "text": [
      "July 31st DATE\n",
      "Sydney GPE\n",
      "40939440 DATE\n",
      "Georgia GPE\n",
      "last week DATE\n"
     ]
    }
   ],
   "source": [
    "# Test new entity rule\n",
    "for entity in doc.ents:\n",
    "    print(entity.text, entity.label_)"
   ]
  },
  {
   "cell_type": "markdown",
   "metadata": {},
   "source": [
    "We start by making an instance of **EntityRuler** called **ruler**, passing it **nlp**. Then, we use **add_patterns** to add the token pattern we'd like spaCy to consider an entity. We can add this rule to the pipeline before **ner** so we be sure it gets used."
   ]
  },
  {
   "cell_type": "markdown",
   "metadata": {},
   "source": [
    "### Exercise: Named entity recognition in spaCy"
   ]
  },
  {
   "cell_type": "code",
   "execution_count": 80,
   "metadata": {},
   "outputs": [
    {
     "name": "stdout",
     "output_type": "stream",
     "text": [
      "<class 'spacy.tokens.doc.Doc'>\n"
     ]
    }
   ],
   "source": [
    "import spacy\n",
    "\n",
    "# Transcribe call 4 channel 2\n",
    "call_4_channel_2_text = transcribe_audio(\"ex4_call_4_channel_2_formatted.wav\")\n",
    "\n",
    "# Create a spaCy language model instance\n",
    "nlp = spacy.load(\"en_core_web_sm\")\n",
    "\n",
    "# Create a spaCy doc with call 4 channel 2 text\n",
    "doc = nlp(call_4_channel_2_text)\n",
    "\n",
    "# Check the type of doc\n",
    "print(type(doc))"
   ]
  },
  {
   "cell_type": "code",
   "execution_count": 81,
   "metadata": {
    "scrolled": true
   },
   "outputs": [
    {
     "name": "stdout",
     "output_type": "stream",
     "text": [
      "hi 0\n",
      "Daniel 3\n",
      "my 10\n",
      "name 13\n",
      "is 18\n",
      "Ann 21\n",
      "and 25\n",
      "I 29\n",
      "'ve 30\n",
      "recently 34\n",
      "just 43\n",
      "purchased 48\n",
      "a 58\n",
      "smart 60\n",
      "front 66\n",
      "buying 72\n",
      "from 79\n",
      "you 84\n",
      "and 88\n",
      "I 92\n",
      "'m 93\n",
      "very 96\n",
      "happy 101\n",
      "with 107\n",
      "the 112\n",
      "product 116\n",
      "I 124\n",
      "'d 125\n",
      "like 128\n",
      "to 133\n",
      "order 136\n",
      "another 142\n",
      "one 150\n",
      "from 154\n",
      "my 159\n",
      "friend 162\n",
      "believes 169\n",
      "in 178\n",
      "Sydney 181\n",
      "and 188\n",
      "have 192\n",
      "it 197\n",
      "delivered 200\n",
      "I 210\n",
      "'m 211\n",
      "pretty 214\n",
      "sure 221\n",
      "it 226\n",
      "'s 228\n",
      "model 231\n",
      "315 237\n",
      "I 241\n",
      "can 243\n",
      "check 247\n",
      "that 253\n",
      "for 258\n",
      "you 262\n",
      "and 266\n",
      "I 270\n",
      "'ll 271\n",
      "give 275\n",
      "you 280\n",
      "more 284\n",
      "details 289\n",
      "if 297\n",
      "you 300\n",
      "'d 303\n",
      "like 306\n",
      "to 311\n",
      "take 314\n",
      "my 319\n",
      "details 322\n",
      "and 330\n",
      "I 334\n",
      "I 336\n",
      "will 338\n",
      "also 343\n",
      "give 348\n",
      "you 353\n",
      "the 357\n",
      "address 361\n",
      "thank 369\n",
      "you 375\n",
      "excellent 379\n"
     ]
    }
   ],
   "source": [
    "# Show tokens in doc\n",
    "for token in doc:\n",
    "    print(token.text, token.idx)"
   ]
  },
  {
   "cell_type": "code",
   "execution_count": 82,
   "metadata": {},
   "outputs": [
    {
     "name": "stdout",
     "output_type": "stream",
     "text": [
      "hi Daniel my name is Ann and I've recently just purchased a smart front buying from you and I'm very happy with the product I'd like to order another one from my friend believes in Sydney and have it delivered I'm pretty sure it's model 315\n",
      "I can check that for you and I'll give you more details if you'd like to take my details and I I will also give you the address thank you excellent\n"
     ]
    }
   ],
   "source": [
    "# Show sentences in doc\n",
    "for sentence in doc.sents:\n",
    "    print(sentence)"
   ]
  },
  {
   "cell_type": "code",
   "execution_count": 83,
   "metadata": {},
   "outputs": [
    {
     "name": "stdout",
     "output_type": "stream",
     "text": [
      "Ann PERSON\n",
      "Sydney GPE\n",
      "315 CARDINAL\n"
     ]
    }
   ],
   "source": [
    "# Show named entities and their labels\n",
    "for entity in doc.ents:\n",
    "    print(entity.text, entity.label_)"
   ]
  },
  {
   "cell_type": "markdown",
   "metadata": {},
   "source": [
    "## Classifying transcribed speech with Sklearn"
   ]
  },
  {
   "cell_type": "markdown",
   "metadata": {},
   "source": [
    "### Transcribing all phone call excerpts"
   ]
  },
  {
   "cell_type": "code",
   "execution_count": 84,
   "metadata": {},
   "outputs": [],
   "source": [
    "# Transcribe text from wav files\n",
    "def create_text_list(folder):\n",
    "    text_list = []\n",
    "    # Loop through foler\n",
    "    for file in folder:\n",
    "        # Check for .wav extension\n",
    "        if file.endswith(\".wav\"):\n",
    "            # Transcribe audio\n",
    "            text = transcribe_audio(file)\n",
    "            # Add transcribed text to list\n",
    "            text_list.append(text)\n",
    "    return text_list"
   ]
  },
  {
   "cell_type": "markdown",
   "metadata": {},
   "source": [
    "### Building a text classifier"
   ]
  },
  {
   "cell_type": "code",
   "execution_count": 85,
   "metadata": {},
   "outputs": [],
   "source": [
    "# Import text classification packages\n",
    "import numpy as np\n",
    "from sklearn.pipeline import Pipeline\n",
    "from sklearn.naive_bayes import MultinomialNB\n",
    "from sklearn.feature_extraction.text import CountVectorizer, TfidfTransformer\n",
    "from sklearn.model_selection import train_test_split"
   ]
  },
  {
   "cell_type": "code",
   "execution_count": 86,
   "metadata": {},
   "outputs": [],
   "source": [
    "pre_purchase_text = ['yeah hi John just calling in regards to a recent order I just placed I found a cheaper product online and I was wondering if I could cancel that',\n",
    "                     \"I was looking online it says that you're only size is available a large and small I was wondering if you'll have any mediums in soon\",\n",
    "                     'hi I was just wondering if you have the extra large tea and blue',\n",
    "                     'yeah hey Steve just calling in regards to a recent order I just placed I was wondering if I could cancel that order',\n",
    "                     'hi I just ordered a new phone and I was just wondering if I could cancel out order and organise a refund',\n",
    "                     'hi I just ordered a new t-shirt and I was wondering if I could cancel an order and organise a refund',\n",
    "                     'accidentally made some errors and order I recently just placed I was wondering if you could help me',\n",
    "                     \"I just placed an order online and I was just wondering when I'll get my confirmation email\",\n",
    "                     \"hey mate I just finished paying for my order and I was just wondering when I'm going to get that email to confirm it\",\n",
    "                     'hey I was wondering if you know where my new phone is that I just recently ordered',\n",
    "                     'do you currently offer any new promotions at the moment',\n",
    "                     \"hi I just pre-ordered the nudity and this is my order number but doctor I was just wondering if you know where abouts it isn't shipment\",\n",
    "                     'your hi Jacob looking to make an order but just have a few questions regarding some products that you have online',\n",
    "                     'hi I just recently placed an order with your company I was just wondering if you know the status of my shipment',\n",
    "                     \"Archie thank god I'm free been on hold for the last 30 minutes yeah got a couple of complaints made about this order I just posted\",\n",
    "                     \"hi just calling in regards to my order on November the 3rd I was just wondering when that's going to leave your office\",\n",
    "                     \"just looking to get some more information on the current promotions you're offering right now before I place my order\",\n",
    "                     \"hi I recently ordered a new phone and I'm just wondering where I could find my reference number for the delivery\",\n",
    "                     'hey mate just looking to make some alterations to my order I just placed',\n",
    "                     'hey just looking to place this order but I see that you have a promotion still running can you give me some more details behind this promotion',\n",
    "                     \"hi I placed an order a couple days ago and I was just wondering why my tracking number isn't working\",\n",
    "                     'hi I just realised I ordered the wrong computer I was wondering if I could just cancel that and organise a refund',\n",
    "                     \"yeah I just placed an all this you guys and I was wondering if I could change a few things before it's shift out\",\n",
    "                     \"how's it going after I just placed an order with you guys and I accidentally sent it to the wrong address can you please help me change this\",\n",
    "                     \"hey Polly just looking to place an order but before I proceed I'm just wondering if this offer still stands\",\n",
    "                     'yeah hi Tommy I just placed an order with you guys but I use the wrong payment processing method I was wondering if I could change that',\n",
    "                     'hi Michael just looking to enquire about a few things before I placed an order I was wondering if you could help me',\n",
    "                     'hi I saw your new phone on your website I was wondering if you have any setup tips for',\n",
    "                     \"I just ordered the new remote control car off you website I was just didn't see how many horsepower it has can you tell me\",\n",
    "                     'hi just about to order these shoes online I was just wondering if you have any different sizes in store',\n",
    "                     'I just placed an order and I was wondering if I could change my shipping time from standard business days to rush if possible',\n",
    "                     'hey I just ordered the new phone and I was wondering if I could get airpods put into that order just before you guys send it',\n",
    "                     'hi Jacob I just placed an order with you guys but I found the same product online it and other store for a cheaper price I was wondering if you could price match it or could I cancel this order',\n",
    "                     'it says here you have the iPhone x l and X I was wondering if you still stock the iPhone 10',\n",
    "                     'hey I was just looking online at your shoes and I was wondering if you have this brand in Pink',\n",
    "                     'I just placed an order I was wondering how long shipping time would be expected to be',\n",
    "                     \"hey mate just have a few questions regarding the recent order I just posted it shows that it's coming from overseas however when I looked at the Australian soccer shop online it says that there's current stock in store for the Australian store\",\n",
    "                     'hi I just ordered some shoes and I was just wondering if I could cancel that order and make a refund',\n",
    "                     'hey I just ordered the blue and yellow shoes off your website and I was wondering if I could cancel that order and organise a refund',\n",
    "                     'hey so I just placed an order with your company and I was just wondering where I can find my reference number',\n",
    "                     'hey I was just wondering about the sizing on your shirts it says us as how does that relate to AUD',\n",
    "                     \"hi Tony I just placed an order I'm currently having a few problems I was wondering if you could help me\",\n",
    "                     'yeah hi David I just placed an order online and I was wondering if I could make an alteration to that order before you send it off',\n",
    "                     'hi I was just looking at finding a new phone I was wondering if you could recommend anything to me',\n",
    "                     'I I just ordered the green and blue shoes off your website and I was wondering if I could add a shirt to my order before you send it']\n",
    "\n",
    "post_purchase_text = ['hey man I just bought a product from you guys and I think is amazing but I leave a little help setting it up',\n",
    "                      'these clothes I just bought from you guys too small is there any way I can change the size',\n",
    "                      \"I recently got these pair of shoes but they're too big can I change the size\",\n",
    "                      \"I bought a pair of pants from you guys but they're way too small\",\n",
    "                      \"I bought a pair of pants and they're the wrong colour is there any chance I can change that\",\n",
    "                      \"hey mate how you doing I'm just calling in regards the product that god it's faulty and doesn't work\",\n",
    "                      \"just wondering if there's any tutorials on how to set up my device I just received\",\n",
    "                      \"hey I'm just not happy with the product that you guys send me there any chance I can swap it out for another one\",\n",
    "                      'I bought a pair of pants from you guys and they are just a bit too long do you guys do Hemi',\n",
    "                      'is there anybody that can help me set up this product or any how to use',\n",
    "                      \"hey mate I just bought a product from you guys and I'm just unhappy with the pop the product can I return it\",\n",
    "                      \"just received the product from you guys and it didn't meet my expectations can I please get a refund\",\n",
    "                      \"what's the process I have to go through to send my product back for a swap\",\n",
    "                      \"hey mate how are you doing just wanting to know if there's any support I can get on this device how to set it up\",\n",
    "                      \"what's your refund policy on items that I've purchased from you guys\",\n",
    "                      \"hey how we doing I just put a cat from you guys and it's just the Wrong Colours is there any chance I can change that\",\n",
    "                      \"call me on to talk about a package I got yesterday it's I got it but I need to do I need some help with setting it up\",\n",
    "                      \"I got my order yesterday and the order number is 1863 3845 I'm just calling up to to check some more details on that\",\n",
    "                      'I would have a couple of things from you guys the other day and two it two of them two of them and great and I love them but the other one is is not the right thing',\n",
    "                      \"yeah hello I'm just wondering if I can speak to someone about an order I received yesterday\",\n",
    "                      'wrong package delivered',\n",
    "                      \"hey I ordered something yesterday and it arrived it arrived this morning but it seems like there's a few a few extra things in there that I didn't really order is there someone that I can talk to you to fix this up\",\n",
    "                      \"hey I bought something from your website the other day and it arrived but it's it's not the thing that I ordered is there someone I can talk to her to fix this up\",\n",
    "                      \"hello someone from your team delivered my package today but it's it's got a problem with it\",\n",
    "                      \"my shipment arrived this afternoon but it's wrong size is there anyone I can talk to you to change it\",\n",
    "                      'I just bought a item from you guys and ID want to know if I can swap it for a different colour',\n",
    "                      \"hey I received my order but it's the wrong size can I get a refund please\",\n",
    "                      \"hey my order arrived today but it's it's there's a it's I don't think it's the one that I ordered I check the receipt and it doesnt match what what a right\",\n",
    "                      \"hey I'm calling up to to see if I can talk to someone to help with her a shipment that I received yesterday\",\n",
    "                      \"I just received this device and I'd love some supported to be able to set it up\",\n",
    "                      \"I just bought a product from you guys and I wouldn't want to know if I can send it back to get a colour change\",\n",
    "                      \"I purchase something from your online store yesterday but the receipt didn't come through can can I get another receipt emailed please\",\n",
    "                      'the product arrived and there was a few things in the box but two of them the wrong is there someone I can talk to about fixing up my order',\n",
    "                      \"I'm just happy with the colour that I got from you guys so is there any chance I can change it for a different one\",\n",
    "                      \"a couple of days ago I got a message saying that my package have been delivered it wasn't delivered that day but it still hasn't arrived there someone I can talk to about my order\",\n",
    "                      \"my shipment arrived yesterday but it's not the right thing is there someone I can talk to you to fix it up\",\n",
    "                      \"my shipment arrived yesterday but it's not the right thing is there someone I can talk to you to fix it up\",\n",
    "                      \"my package was supposed to be delivered yesterday but it it didn't arrive is there someone I can talk to about my order\",\n",
    "                      \"my package was supposed to be delivered yesterday but it it didn't arrive is there someone I can talk to about my order\",\n",
    "                      \"I bought a hat from you guys and it's just too big is there anyway I can get it down size and what's your policies on that\",\n",
    "                      'calling in regards to the order I just got would love some support',\n",
    "                      \"my order a 64321 arrived this morning but it's something wrong with it is there someone I can talk to to fix it\",\n",
    "                      \"yeah hello someone this morning delivered a package but I think it's I think it's not the right one that I ordered is there someone I can talk to you too to change it\",\n",
    "                      \"on the box that you sent me yesterday arrived but it's damaged the someone I can talk to her about replacement\",\n",
    "                      \"I've just bought a product can you guys and I want to know what your return keys and Caesar\",\n",
    "                      \"my order a 64321 arrived this morning but it's something wrong with it is there someone I can talk to to fix it\",\n",
    "                      \"hey my name is Daniel I received my shipment yesterday but it's wrong can I change it\",\n",
    "                      \"all the things I received the my order yesterday would damaged I'm not sure what happened to delivery is there someone that can give me a hand\",\n",
    "                      'the shipment I received is wrong',\n",
    "                      \"yeah hey I need I need some help with her with an order that I ordered the other day it it came and it wasn't it wasn't correct\",\n",
    "                      \"yeah hello someone this morning delivered a package but I think it's I think it's not the right one that I ordered is there someone I can talk to you too to change it\",\n",
    "                      'the shipment I received is wrong',\n",
    "                      \"yeah hello I'm just wondering if I can speak to someone about an order I received yesterday\",\n",
    "                      \"my shipment arrived this afternoon but it's wrong size is there anyone I can talk to you to change it\",\n",
    "                      \"all the things I received the my order yesterday would damaged I'm not sure what happened to delivery is there someone that can give me a hand\",\n",
    "                      'hey mate the must have been a problem with the shipping because the product I just received from you is damaged',\n",
    "                      \"hey mate how you doing just calling in regards to the phone I just purchased from you guys faulty not working and now he's damaged on the way here\"]"
   ]
  },
  {
   "cell_type": "code",
   "execution_count": 87,
   "metadata": {},
   "outputs": [
    {
     "data": {
      "text/html": [
       "<div>\n",
       "<style scoped>\n",
       "    .dataframe tbody tr th:only-of-type {\n",
       "        vertical-align: middle;\n",
       "    }\n",
       "\n",
       "    .dataframe tbody tr th {\n",
       "        vertical-align: top;\n",
       "    }\n",
       "\n",
       "    .dataframe thead th {\n",
       "        text-align: right;\n",
       "    }\n",
       "</style>\n",
       "<table border=\"1\" class=\"dataframe\">\n",
       "  <thead>\n",
       "    <tr style=\"text-align: right;\">\n",
       "      <th></th>\n",
       "      <th>label</th>\n",
       "      <th>text</th>\n",
       "    </tr>\n",
       "  </thead>\n",
       "  <tbody>\n",
       "    <tr>\n",
       "      <th>0</th>\n",
       "      <td>post_purchase</td>\n",
       "      <td>hey man I just bought a product from you guys ...</td>\n",
       "    </tr>\n",
       "    <tr>\n",
       "      <th>1</th>\n",
       "      <td>post_purchase</td>\n",
       "      <td>these clothes I just bought from you guys too ...</td>\n",
       "    </tr>\n",
       "    <tr>\n",
       "      <th>2</th>\n",
       "      <td>post_purchase</td>\n",
       "      <td>I recently got these pair of shoes but they're...</td>\n",
       "    </tr>\n",
       "    <tr>\n",
       "      <th>3</th>\n",
       "      <td>post_purchase</td>\n",
       "      <td>I bought a pair of pants from you guys but the...</td>\n",
       "    </tr>\n",
       "    <tr>\n",
       "      <th>4</th>\n",
       "      <td>post_purchase</td>\n",
       "      <td>I bought a pair of pants and they're the wrong...</td>\n",
       "    </tr>\n",
       "  </tbody>\n",
       "</table>\n",
       "</div>"
      ],
      "text/plain": [
       "           label                                               text\n",
       "0  post_purchase  hey man I just bought a product from you guys ...\n",
       "1  post_purchase  these clothes I just bought from you guys too ...\n",
       "2  post_purchase  I recently got these pair of shoes but they're...\n",
       "3  post_purchase  I bought a pair of pants from you guys but the...\n",
       "4  post_purchase  I bought a pair of pants and they're the wrong..."
      ]
     },
     "execution_count": 87,
     "metadata": {},
     "output_type": "execute_result"
    }
   ],
   "source": [
    "import pandas as pd\n",
    "\n",
    "# Make dataframes with the text\n",
    "post_purchase_df = pd.DataFrame({\"label\": \"post_purchase\",\n",
    "                                 \"text\": post_purchase_text})\n",
    "pre_purchase_df = pd.DataFrame({\"label\": \"pre_purchase\",\n",
    "                                \"text\": pre_purchase_text})\n",
    "\n",
    "# Combine DataFrames\n",
    "df = pd.concat([post_purchase_df, pre_purchase_df])\n",
    "\n",
    "# Print the combined DataFrame\n",
    "df.head()"
   ]
  },
  {
   "cell_type": "code",
   "execution_count": 88,
   "metadata": {},
   "outputs": [],
   "source": [
    "# Split data into train and test sets\n",
    "X_train, X_test, y_train, y_test = train_test_split(df[\"text\"], df[\"label\"], test_size=0.3)"
   ]
  },
  {
   "cell_type": "markdown",
   "metadata": {},
   "source": [
    "### Naive Bayes Pipeline"
   ]
  },
  {
   "cell_type": "code",
   "execution_count": 89,
   "metadata": {},
   "outputs": [],
   "source": [
    "# Create text classifier pipeline\n",
    "text_classifier = Pipeline([\n",
    "    (\"vectorizer\", CountVectorizer()),\n",
    "    (\"tfidf\", TfidfTransformer()),\n",
    "    (\"classifier\", MultinomialNB())\n",
    "])"
   ]
  },
  {
   "cell_type": "code",
   "execution_count": 90,
   "metadata": {},
   "outputs": [
    {
     "data": {
      "text/plain": [
       "Pipeline(steps=[('vectorizer', CountVectorizer()),\n",
       "                ('tfidf', TfidfTransformer()),\n",
       "                ('classifier', MultinomialNB())])"
      ]
     },
     "execution_count": 90,
     "metadata": {},
     "output_type": "execute_result"
    }
   ],
   "source": [
    "# Fit the classifier pipeline on the training data\n",
    "text_classifier.fit(X_train, y_train)"
   ]
  },
  {
   "cell_type": "markdown",
   "metadata": {},
   "source": [
    "### Not so Naive"
   ]
  },
  {
   "cell_type": "code",
   "execution_count": 91,
   "metadata": {},
   "outputs": [
    {
     "name": "stdout",
     "output_type": "stream",
     "text": [
      "The model is 100.00% accurate.\n"
     ]
    }
   ],
   "source": [
    "# Make predictions and compare them to test labels\n",
    "predictions = text_classifier.predict(X_test)\n",
    "accuracy = 100 * np.mean(predictions == y_test)\n",
    "print(f\"The model is {accuracy:.2f}% accurate.\")"
   ]
  }
 ],
 "metadata": {
  "kernelspec": {
   "display_name": "Python 3",
   "language": "python",
   "name": "python3"
  },
  "language_info": {
   "codemirror_mode": {
    "name": "ipython",
    "version": 3
   },
   "file_extension": ".py",
   "mimetype": "text/x-python",
   "name": "python",
   "nbconvert_exporter": "python",
   "pygments_lexer": "ipython3",
   "version": "3.8.5"
  }
 },
 "nbformat": 4,
 "nbformat_minor": 4
}
